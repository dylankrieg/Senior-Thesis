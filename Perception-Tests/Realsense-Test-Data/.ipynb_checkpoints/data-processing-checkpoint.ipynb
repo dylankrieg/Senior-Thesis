{
 "cells": [
  {
   "cell_type": "code",
   "execution_count": 8,
   "metadata": {},
   "outputs": [],
   "source": [
    "import numpy as np\n",
    "import math\n",
    "import open3d as o3d\n",
    "import cv2\n",
    "import matplotlib.pyplot as plt\n",
    "import copy"
   ]
  },
  {
   "cell_type": "code",
   "execution_count": 9,
   "metadata": {},
   "outputs": [],
   "source": [
    "# depthImage[depthImage >= 812] = 812\n",
    "# print(np.max(depthImage))\n",
    "# depthImage = 255 - ((depthImage/812)*255)# Apply linear scaling to depthImage with darker regions further away\n",
    "# plt.imshow(depthImage,cmap=\"gray\")\n",
    "# plt.show()"
   ]
  },
  {
   "cell_type": "code",
   "execution_count": 10,
   "metadata": {},
   "outputs": [],
   "source": [
    "def displayImg(depthImage,irImage):\n",
    "    histCount, edge, tmp = plt.hist(depthImage.flatten(), bins=100)\n",
    "    plt.show()\n",
    "    plt.imshow(depthImage,cmap=\"Greys\")\n",
    "    plt.show()\n",
    "    plt.imshow(irImage)\n",
    "    plt.show()"
   ]
  },
  {
   "cell_type": "code",
   "execution_count": 11,
   "metadata": {},
   "outputs": [],
   "source": [
    "rawDepthImage = np.load(\"front/depthImageNew.npy\")\n",
    "colorImage = np.load(\"front/colorImage.npy\")\n",
    "depthImage = copy.deepcopy(rawDepthImage)"
   ]
  },
  {
   "cell_type": "code",
   "execution_count": 12,
   "metadata": {},
   "outputs": [
    {
     "ename": "AttributeError",
     "evalue": "module 'open3d.cpu.pybind.geometry' has no attribute 'create_point_cloud_from_depth_image'",
     "output_type": "error",
     "traceback": [
      "\u001b[0;31m---------------------------------------------------------------------------\u001b[0m",
      "\u001b[0;31mAttributeError\u001b[0m                            Traceback (most recent call last)",
      "\u001b[0;32m/tmp/ipykernel_32250/3149561344.py\u001b[0m in \u001b[0;36m<module>\u001b[0;34m\u001b[0m\n\u001b[0;32m----> 1\u001b[0;31m \u001b[0mo3d\u001b[0m\u001b[0;34m.\u001b[0m\u001b[0mgeometry\u001b[0m\u001b[0;34m.\u001b[0m\u001b[0mcreate_point_cloud_from_depth_image\u001b[0m\u001b[0;34m(\u001b[0m\u001b[0mrawDepthImage\u001b[0m\u001b[0;34m)\u001b[0m\u001b[0;34m\u001b[0m\u001b[0;34m\u001b[0m\u001b[0m\n\u001b[0m",
      "\u001b[0;31mAttributeError\u001b[0m: module 'open3d.cpu.pybind.geometry' has no attribute 'create_point_cloud_from_depth_image'"
     ]
    }
   ],
   "source": [
    "RGDB_Image = o3d.geometry.RGBDImage.create_from_color_and_depth(\n",
    "    o3d.geometry.Image(colorImage),\n",
    "    o3d.geometry.Image(np.array(rawDepthImage).astype('uint16')),\n",
    "    convert_rgb_to_intensity=False,\n",
    "    depth_scale=1000.0)\n",
    "\n",
    "PCD = o3d.geometry.PointCloud.create_from_rgbd_image(\n",
    "    redRGDB_Image,\n",
    "    o3d.camera.PinholeCameraIntrinsic(320,240,320,240,160,120),\n",
    "    project_valid_depth_only=True\n",
    "    \n",
    ")\n",
    "\n",
    "o3d.geometry.create_point_cloud_from_depth_image(rawDepthImage)\n",
    "o3d.visualization.draw(geometry)"
   ]
  },
  {
   "cell_type": "code",
   "execution_count": null,
   "metadata": {},
   "outputs": [],
   "source": []
  },
  {
   "cell_type": "code",
   "execution_count": null,
   "metadata": {},
   "outputs": [],
   "source": []
  },
  {
   "cell_type": "code",
   "execution_count": null,
   "metadata": {},
   "outputs": [],
   "source": [
    "e"
   ]
  }
 ],
 "metadata": {
  "kernelspec": {
   "display_name": "Python 3 (ipykernel)",
   "language": "python",
   "name": "python3"
  },
  "language_info": {
   "codemirror_mode": {
    "name": "ipython",
    "version": 3
   },
   "file_extension": ".py",
   "mimetype": "text/x-python",
   "name": "python",
   "nbconvert_exporter": "python",
   "pygments_lexer": "ipython3",
   "version": "3.8.10"
  }
 },
 "nbformat": 4,
 "nbformat_minor": 4
}
