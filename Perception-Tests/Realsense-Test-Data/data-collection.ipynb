{
 "cells": [
  {
   "cell_type": "code",
   "execution_count": 6,
   "metadata": {},
   "outputs": [
    {
     "ename": "ModuleNotFoundError",
     "evalue": "No module named 'pyrealsense2'",
     "output_type": "error",
     "traceback": [
      "\u001b[0;31m---------------------------------------------------------------------------\u001b[0m",
      "\u001b[0;31mModuleNotFoundError\u001b[0m                       Traceback (most recent call last)",
      "\u001b[0;32m/tmp/ipykernel_37881/356597257.py\u001b[0m in \u001b[0;36m<module>\u001b[0;34m\u001b[0m\n\u001b[1;32m      1\u001b[0m \u001b[0;31m# Requires Python3 Kernel (3.6) as pyrealsense is installed here on hand\u001b[0m\u001b[0;34m\u001b[0m\u001b[0;34m\u001b[0m\u001b[0;34m\u001b[0m\u001b[0m\n\u001b[0;32m----> 2\u001b[0;31m \u001b[0;32mimport\u001b[0m \u001b[0mpyrealsense2\u001b[0m \u001b[0;32mas\u001b[0m \u001b[0mrs\u001b[0m\u001b[0;34m\u001b[0m\u001b[0;34m\u001b[0m\u001b[0m\n\u001b[0m\u001b[1;32m      3\u001b[0m \u001b[0;32mimport\u001b[0m \u001b[0mnumpy\u001b[0m \u001b[0;32mas\u001b[0m \u001b[0mnp\u001b[0m\u001b[0;34m\u001b[0m\u001b[0;34m\u001b[0m\u001b[0m\n\u001b[1;32m      4\u001b[0m \u001b[0;32mimport\u001b[0m \u001b[0mmath\u001b[0m\u001b[0;34m\u001b[0m\u001b[0;34m\u001b[0m\u001b[0m\n\u001b[1;32m      5\u001b[0m \u001b[0;32mimport\u001b[0m \u001b[0mcv2\u001b[0m\u001b[0;34m\u001b[0m\u001b[0;34m\u001b[0m\u001b[0m\n",
      "\u001b[0;31mModuleNotFoundError\u001b[0m: No module named 'pyrealsense2'"
     ]
    }
   ],
   "source": [
    "# Requires Python3 Kernel (3.6) as pyrealsense is installed here on hand\n",
    "import pyrealsense2 as rs\n",
    "import numpy as np\n",
    "import math\n",
    "import cv2\n",
    "# Used to display Matplotlib plots in Jupyter\n",
    "%matplotlib inline\n",
    "import matplotlib.pyplot as plt\n",
    "import time\n",
    "\n",
    "# PIL used to save images as pngs\n",
    "from PIL import Image"
   ]
  },
  {
   "cell_type": "code",
   "execution_count": 35,
   "metadata": {},
   "outputs": [
    {
     "data": {
      "text/plain": [
       "<pyrealsense2.pipeline_profile at 0x7f94642848>"
      ]
     },
     "execution_count": 35,
     "metadata": {},
     "output_type": "execute_result"
    }
   ],
   "source": [
    "pipe = rs.pipeline()\n",
    "conf ig = rs.config()\n",
    "\n",
    "# Getting information about the connected realsense model (device object) - D410\n",
    "pipeProfile = config.resolve(rs.pipeline_wrapper(pipe))\n",
    "device = pipeProfile.get_device()\n",
    "\n",
    "# Setting attributes for stream\n",
    "# Depth Stream (640 x 480) 30 fps - D410 Sensor has max 1280 x 720\n",
    "# (Minimum z depth is between 55-70 mm)\n",
    "config.enable_stream(rs.stream.depth,640,480,rs.format.z16,30)\n",
    "\n",
    "# No Color, only Infrared on D410 Stream (640 x 480) 30 fps - D410 Sensor has max 1280 x 720\n",
    "config.enable_stream(rs.stream.color,640,480,rs.format.rgb8,30)\n",
    "\n",
    "# Starting the pipeline based on the specified configuration\n",
    "# pipe.start(config)"
   ]
  },
  {
   "cell_type": "code",
   "execution_count": 36,
   "metadata": {},
   "outputs": [
    {
     "name": "stdout",
     "output_type": "stream",
     "text": [
      "Stereo Module\n"
     ]
    }
   ],
   "source": [
    "for s in device.sensors:\n",
    "    print(s.get_info(rs.camera_info.name))"
   ]
  },
  {
   "cell_type": "code",
   "execution_count": 9,
   "metadata": {},
   "outputs": [
    {
     "ename": "TypeError",
     "evalue": "takeImages() missing 2 required positional arguments: 'pipe' and 'config'",
     "output_type": "error",
     "traceback": [
      "\u001b[0;31m---------------------------------------------------------------------------\u001b[0m",
      "\u001b[0;31mTypeError\u001b[0m                                 Traceback (most recent call last)",
      "\u001b[0;32m/tmp/ipykernel_37881/1885865517.py\u001b[0m in \u001b[0;36m<module>\u001b[0;34m\u001b[0m\n\u001b[1;32m     59\u001b[0m \u001b[0;34m\u001b[0m\u001b[0m\n\u001b[1;32m     60\u001b[0m \u001b[0;34m\u001b[0m\u001b[0m\n\u001b[0;32m---> 61\u001b[0;31m \u001b[0mrawDepthImage\u001b[0m\u001b[0;34m,\u001b[0m\u001b[0mrawColorImage\u001b[0m \u001b[0;34m=\u001b[0m \u001b[0mtakeImages\u001b[0m\u001b[0;34m(\u001b[0m\u001b[0;34m)\u001b[0m\u001b[0;34m\u001b[0m\u001b[0;34m\u001b[0m\u001b[0m\n\u001b[0m\u001b[1;32m     62\u001b[0m \u001b[0mpcd\u001b[0m \u001b[0;34m=\u001b[0m \u001b[0mgetPointCloud\u001b[0m\u001b[0;34m(\u001b[0m\u001b[0mrawDepthImage\u001b[0m\u001b[0;34m,\u001b[0m\u001b[0mrawColorImage\u001b[0m\u001b[0;34m)\u001b[0m\u001b[0;34m\u001b[0m\u001b[0;34m\u001b[0m\u001b[0m\n\u001b[1;32m     63\u001b[0m \u001b[0;34m\u001b[0m\u001b[0m\n",
      "\u001b[0;31mTypeError\u001b[0m: takeImages() missing 2 required positional arguments: 'pipe' and 'config'"
     ]
    }
   ],
   "source": [
    "def getPinholeInstrinsics(frame):\n",
    "    # frame is a subclass of pyrealsense2.video_frame (depth_frame,etc)\n",
    "    intrinsics = frame.profile.as_video_stream_profile().intrinsics\n",
    "    return o3d.camera.PinholeCameraIntrinsic(640, 480, intrinsics.fx,\n",
    "                                            intrinsics.fy, intrinsics.ppx,\n",
    "                                            intrinsics.ppy)\n",
    "\n",
    "\n",
    "def takeImages(pipe,config,saveImages=False,zMax=2000):\n",
    "    # returns depth,color images as numpy arrays\n",
    "    # Starting the pipeline based on the specified configuration\n",
    "    profile = pipe.start(config)\n",
    "    # Return's unprocessed depth and infrared images as tuple of 2 numpy array\n",
    "    frames = pipe.wait_for_frames()\n",
    "    depthFrame = frames.get_depth_frame() # pyrealsense2.depth_frame\n",
    "    colorFrame = frames.get_color_frame()\n",
    "    # irFrame = frames.get_infrared_frame() # pyrealsense2.video_frame\n",
    "    # other method is get_infrared_frame\n",
    "    \n",
    "    \n",
    "    # alignOperator maps depth frames to color frames\n",
    "    alignOperator = rs.align(rs.stream.color)\n",
    "    alignOperator.process(frames)\n",
    "    alignedDepthFrame,alignedColorFrame = alignOperator.get_depth_frame(),alignOperator.get_color_frame()\n",
    "    \n",
    "    # unmodified rgb and z images as numpy arrays of 3 and 1 channels\n",
    "    rawColorImage = np.asanyarray(alignedColorFrame.get_data())\n",
    "    rawDepthImage = np.asanyarray(alignedDepthFrame.get_data())\n",
    "    \n",
    "    \n",
    "    \n",
    "    \n",
    "    subFix = \"Back\" # append to end of file paths\n",
    "    if saveImages:\n",
    "        np.save(f\"newRealsense/depthImage{subFix}\",rawDepthImage)\n",
    "        np.save(f\"newRealsense/colorImage{subFix}\",rawColorImage)\n",
    "        colorIM = Image.fromarray(rawColorImage)\n",
    "        colorIM.save(f\"newRealsense/colorImage{subFix}.jpeg\")\n",
    "    pipe.stop()\n",
    "    return rawDepthImage,rawColorImage\n",
    "    \n",
    "def getPointCloud(depthImage,colorImage):\n",
    "    # depthImage: 1 channel numpy array of z values\n",
    "    # colorImage: 3 channel numpy array of rgb values\n",
    "    # display: boolean, toggles if point cloud should be shown\n",
    "    # out: open3d point cloud (o3d.geometry.PointCloud)\n",
    "\n",
    "    pinholeInstrinsics = getPinholeInstrinsics(colorFrame) # returns open3d pinhole camera\n",
    "    o3d.geometry.RGBDImage.create_from_color_and_depth(\n",
    "        alignedColorImage,\n",
    "        alignedDepthImage,\n",
    "        depth_scale=1000,\n",
    "        depth_trunc = zMax,\n",
    "        convert_rgb_to_intensity=False)\n",
    "    rawDepthImage,rawColorImage = takeImages()\n",
    "    # create an open3d pointcloud\n",
    "    out = o3d.geometry.PointCloud.create_from_rgbd_image(rawColorImage,pinholeInstrinsics)\n",
    "    return out\n",
    "\n",
    "\n",
    "def displayStream(pipe,config):\n",
    "    # streams and displays the point cloud data in open3d\n",
    "    # pipe,config are stream properties set in the earlier cells \n",
    "\n",
    "    vis = o3d.visualization.Visualizer()\n",
    "    vis.create_window()\n",
    "    framesTaken = 0\n",
    "    while True:\n",
    "        rawDepthImage,rawColorImage = takeImages(pipe,config)\n",
    "        pcd = getPointCloud(depthimage,colorImage)\n",
    "        if framesTaken == 0:\n",
    "            vis.add_geometry([pcd])\n",
    "        vis.update_geometry(pcd)\n",
    "        vis.poll_events()\n",
    "        vis.update_renderer()\n",
    "        framesTaken += 1 \n",
    "        \n",
    "\n",
    "pcd = getPointCloud(rawDepthImage,rawColorImage)\n",
    "o3d.geometry.display([pcd])\n"
   ]
  },
  {
   "cell_type": "code",
   "execution_count": 8,
   "metadata": {},
   "outputs": [
    {
     "ename": "NameError",
     "evalue": "name 'pipe' is not defined",
     "output_type": "error",
     "traceback": [
      "\u001b[0;31m---------------------------------------------------------------------------\u001b[0m",
      "\u001b[0;31mNameError\u001b[0m                                 Traceback (most recent call last)",
      "\u001b[0;32m/tmp/ipykernel_37881/1676989161.py\u001b[0m in \u001b[0;36m<module>\u001b[0;34m\u001b[0m\n\u001b[0;32m----> 1\u001b[0;31m \u001b[0mrawDepth\u001b[0m\u001b[0;34m,\u001b[0m\u001b[0mrawColor\u001b[0m \u001b[0;34m=\u001b[0m \u001b[0mtakeImages\u001b[0m\u001b[0;34m(\u001b[0m\u001b[0mpipe\u001b[0m\u001b[0;34m,\u001b[0m\u001b[0mconfig\u001b[0m\u001b[0;34m,\u001b[0m\u001b[0;32mTrue\u001b[0m\u001b[0;34m)\u001b[0m\u001b[0;34m\u001b[0m\u001b[0;34m\u001b[0m\u001b[0m\n\u001b[0m\u001b[1;32m      2\u001b[0m \u001b[0mplt\u001b[0m\u001b[0;34m.\u001b[0m\u001b[0mimshow\u001b[0m\u001b[0;34m(\u001b[0m\u001b[0mrawDepth\u001b[0m\u001b[0;34m)\u001b[0m\u001b[0;34m\u001b[0m\u001b[0;34m\u001b[0m\u001b[0m\n\u001b[1;32m      3\u001b[0m \u001b[0mplt\u001b[0m\u001b[0;34m.\u001b[0m\u001b[0mshow\u001b[0m\u001b[0;34m(\u001b[0m\u001b[0;34m)\u001b[0m\u001b[0;34m\u001b[0m\u001b[0;34m\u001b[0m\u001b[0m\n\u001b[1;32m      4\u001b[0m \u001b[0mplt\u001b[0m\u001b[0;34m.\u001b[0m\u001b[0mimshow\u001b[0m\u001b[0;34m(\u001b[0m\u001b[0mrawColor\u001b[0m\u001b[0;34m)\u001b[0m\u001b[0;34m\u001b[0m\u001b[0;34m\u001b[0m\u001b[0m\n\u001b[1;32m      5\u001b[0m \u001b[0mplt\u001b[0m\u001b[0;34m.\u001b[0m\u001b[0mshow\u001b[0m\u001b[0;34m(\u001b[0m\u001b[0;34m)\u001b[0m\u001b[0;34m\u001b[0m\u001b[0;34m\u001b[0m\u001b[0m\n",
      "\u001b[0;31mNameError\u001b[0m: name 'pipe' is not defined"
     ]
    }
   ],
   "source": [
    "rawDepth,rawColor = takeImages(pipe,config,True)\n",
    "plt.imshow(rawDepth)\n",
    "plt.show()\n",
    "plt.imshow(rawColor)\n",
    "plt.show()\n"
   ]
  },
  {
   "cell_type": "code",
   "execution_count": 46,
   "metadata": {},
   "outputs": [],
   "source": [
    "import copy"
   ]
  },
  {
   "cell_type": "code",
   "execution_count": null,
   "metadata": {},
   "outputs": [],
   "source": [
    "def displayImg(depthImage):\n",
    "    histCount, edge, tmp = plt.hist(depthImage.flatten(), bins=100)\n",
    "    plt.show()\n",
    "    plt.imshow(depthImage,cmap=\"Greys\")\n",
    "    plt.show()\n",
    "\n",
    "def get_intrinsic_matrix(frame):\n",
    "    intrinsics = frame.profile.as_video_stream_profile().intrinsics\n",
    "    out = o3d.camera.PinholeCameraIntrinsic(640, 480, intrinsics.fx,\n",
    "                                            intrinsics.fy, intrinsics.ppx,\n",
    "                                            intrinsics.ppy)\n",
    "    return out"
   ]
  },
  {
   "cell_type": "code",
   "execution_count": null,
   "metadata": {},
   "outputs": [],
   "source": [
    "rawDepthImage = np.load(\"depthImage1.npy\")\n",
    "depthImage = copy.deepcopy(rawDepthImage)\n",
    "# depthImage = 255 - ((depthImage/812)*255)\n",
    "displayImg(depthImage)\n",
    "minDistance = 200 # Minimum distance to consider\n",
    "maxDistance = 500 # Maximum distance to consider\n",
    "depthImage[depthImage > maxDistance] = maxDistance\n",
    "depthImage[depthImage < minDistance] = minDistance\n",
    "# Apply min-max scaling to depthImage with whiter regions further away\n",
    "depthImage = ((depthImage-minDistance)/(maxDistance-minDistance))*255 \n",
    "displayImg(depthImage)\n"
   ]
  },
  {
   "cell_type": "code",
   "execution_count": null,
   "metadata": {},
   "outputs": [],
   "source": [
    "height,width = depthImage.shape\n",
    "o3d.camera.PinholeCameraIntrinstic(\n",
    "    width = rs.instrinsics.width\n",
    "    height = rs.instrinsics.width\n",
    "    fx=rs.instrinsics.fx\n",
    "    fy=rs.instrinsics.fy\n",
    "    cx=rs.instrincs.ppx\n",
    "    cy=rs.instrincts.ppy\n",
    ")"
   ]
  },
  {
   "cell_type": "code",
   "execution_count": 3,
   "metadata": {},
   "outputs": [
    {
     "name": "stdout",
     "output_type": "stream",
     "text": [
      "['/Users/dylankriegman/Desktop/UR5-Interface/Perception-Tests/Realsense-Test-Data', '/Library/Frameworks/Python.framework/Versions/3.8/lib/python38.zip', '/Library/Frameworks/Python.framework/Versions/3.8/lib/python3.8', '/Library/Frameworks/Python.framework/Versions/3.8/lib/python3.8/lib-dynload', '', '/Users/dylankriegman/Library/Python/3.8/lib/python/site-packages', '/Library/Frameworks/Python.framework/Versions/3.8/lib/python3.8/site-packages', '/Users/dylankriegman/Library/Python/3.8/lib/python/site-packages/IPython/extensions', '/Users/dylankriegman/.ipython']\n"
     ]
    }
   ],
   "source": [
    "import sys\n",
    "print(sys.path)"
   ]
  },
  {
   "cell_type": "code",
   "execution_count": null,
   "metadata": {},
   "outputs": [],
   "source": []
  }
 ],
 "metadata": {
  "kernelspec": {
   "display_name": "Python 3 (ipykernel)",
   "language": "python",
   "name": "python3"
  },
  "language_info": {
   "codemirror_mode": {
    "name": "ipython",
    "version": 3
   },
   "file_extension": ".py",
   "mimetype": "text/x-python",
   "name": "python",
   "nbconvert_exporter": "python",
   "pygments_lexer": "ipython3",
   "version": "3.8.10"
  }
 },
 "nbformat": 4,
 "nbformat_minor": 4
}
