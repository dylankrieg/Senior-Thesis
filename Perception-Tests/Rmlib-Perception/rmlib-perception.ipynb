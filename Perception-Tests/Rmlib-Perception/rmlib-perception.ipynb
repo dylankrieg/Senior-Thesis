{
 "cells": [
  {
   "cell_type": "code",
   "execution_count": 15,
   "metadata": {},
   "outputs": [
    {
     "name": "stdout",
     "output_type": "stream",
     "text": [
      "Ensure RTDE3 is started on the SmartHand\n"
     ]
    }
   ],
   "source": [
    "import numpy as np\n",
    "import rmlib\n",
    "from rmlib.rmtools import utils, poses\n",
    "from rmlib import robot\n",
    "print(\"Ensure RTDE3 is started on the SmartHand\")"
   ]
  },
  {
   "cell_type": "code",
   "execution_count": 16,
   "metadata": {},
   "outputs": [
    {
     "name": "stdout",
     "output_type": "stream",
     "text": [
      "Connecting to the force sensor at ('192.168.0.3', 49152) ... SUCCESS!\n",
      "Preparing OptoForce for data transmission ... COMPLETED!\n",
      "SETTING FORCE BIAS TO CURRENT\n",
      "Set up server at: {'ip': '127.0.0.1', 'port': 20000}\n",
      "Set up server at: {'ip': '', 'port': 10000}\n",
      "XML-RPC servers RUNNING!\n",
      "Waiting on first robot state ....\n",
      "\n",
      " Config Tuple: {'ip': '127.0.0.1', 'port': 20000}\n",
      " Config Tuple:  \n",
      "{'ip': '', 'port': 10000}\n",
      " \n",
      "\n",
      "Encountered the following error:\n",
      " [Errno 98] Address already in use\n",
      "Terminating workers ... TERMINATED\n",
      "\t\tReceived!: {'recipe_id': 1, 'timestamp': 1408.088, 'actual_TCP_pose': [-0.030628210608714915, -0.6081866171688017, 0.10413697462092024, -0.045398042072150945, -2.2708769827801585, 2.1476621171515364], 'actual_TCP_speed': [0.0, 0.0, 0.0, 0.0, 0.0, 0.0], 'actual_TCP_force': [-3.6300660440016568, 1.9280122703539655, -2.967308606010086, -3.5738223207249535, -1.2913692082391717, 0.7134699566577472], 'actual_q': [1.0393716096878052, -1.633953873311178, 2.4863791465759277, -0.7915852705584925, 1.0773597955703735, 3.1236793994903564], 'target_q': [1.0393946859237138, -1.6339308542947828, 2.4863465544336254, -0.7915191343709509, 1.077386903755402, 3.1237583317553153], 'actual_digital_input_bits': 0, 'safety_status_bits': 1, 'robot_status_bits': 1}\n",
      "Robot Ready!\n"
     ]
    }
   ],
   "source": [
    "r = robot.Robot()"
   ]
  },
  {
   "cell_type": "code",
   "execution_count": 17,
   "metadata": {},
   "outputs": [
    {
     "ename": "AttributeError",
     "evalue": "'Robot' object has no attribute 'camera'",
     "output_type": "error",
     "traceback": [
      "\u001b[0;31m---------------------------------------------------------------------------\u001b[0m",
      "\u001b[0;31mAttributeError\u001b[0m                            Traceback (most recent call last)",
      "\u001b[0;32m/tmp/ipykernel_17601/2680953566.py\u001b[0m in \u001b[0;36m<module>\u001b[0;34m\u001b[0m\n\u001b[0;32m----> 1\u001b[0;31m \u001b[0mprint\u001b[0m\u001b[0;34m(\u001b[0m\u001b[0mr\u001b[0m\u001b[0;34m.\u001b[0m\u001b[0mcamera\u001b[0m\u001b[0;34m)\u001b[0m\u001b[0;34m\u001b[0m\u001b[0;34m\u001b[0m\u001b[0m\n\u001b[0m",
      "\u001b[0;31mAttributeError\u001b[0m: 'Robot' object has no attribute 'camera'"
     ]
    }
   ],
   "source": [
    "print(r.camera)"
   ]
  },
  {
   "cell_type": "code",
   "execution_count": null,
   "metadata": {},
   "outputs": [],
   "source": []
  }
 ],
 "metadata": {
  "kernelspec": {
   "display_name": "Python (3.9.4)",
   "language": "python",
   "name": "python3.9.4"
  },
  "language_info": {
   "codemirror_mode": {
    "name": "ipython",
    "version": 3
   },
   "file_extension": ".py",
   "mimetype": "text/x-python",
   "name": "python",
   "nbconvert_exporter": "python",
   "pygments_lexer": "ipython3",
   "version": "3.9.4"
  }
 },
 "nbformat": 4,
 "nbformat_minor": 4
}
