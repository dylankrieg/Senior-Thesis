{
 "cells": [
  {
   "cell_type": "code",
   "execution_count": 1,
   "id": "218de99c-4b32-48dc-9b35-0dc2e86598f1",
   "metadata": {},
   "outputs": [],
   "source": [
    "import cv2 as cv\n",
    "import numpy as np"
   ]
  },
  {
   "cell_type": "code",
   "execution_count": 1,
   "id": "3170f97a-6547-47d6-9a6f-317d4a5c223d",
   "metadata": {},
   "outputs": [
    {
     "name": "stderr",
     "output_type": "stream",
     "text": [
      "usage: ipykernel_launcher.py [-h] -o OUTPUT -i ID [-t TYPE]\n",
      "ipykernel_launcher.py: error: the following arguments are required: -o/--output, -i/--id\n"
     ]
    },
    {
     "ename": "SystemExit",
     "evalue": "2",
     "output_type": "error",
     "traceback": [
      "An exception has occurred, use %tb to see the full traceback.\n",
      "\u001b[0;31mSystemExit\u001b[0m\u001b[0;31m:\u001b[0m 2\n"
     ]
    },
    {
     "name": "stderr",
     "output_type": "stream",
     "text": [
      "/Users/dylankriegman/Library/Python/3.8/lib/python/site-packages/IPython/core/interactiveshell.py:3449: UserWarning: To exit: use 'exit', 'quit', or Ctrl-D.\n",
      "  warn(\"To exit: use 'exit', 'quit', or Ctrl-D.\", stacklevel=1)\n"
     ]
    }
   ],
   "source": [
    "#!/usr/bin/env python\n",
    "\n",
    "# import the necessary packages\n",
    "import numpy as np\n",
    "import argparse\n",
    "import cv2\n",
    "import sys\n",
    "                                   \n",
    "# construct the argument parser and parse the arguments\n",
    "ap = argparse.ArgumentParser()\n",
    "ap.add_argument(\"-o\", \"--output\", required=True,\n",
    "\thelp=\"path to output image containing ArUCo tag\")\n",
    "ap.add_argument(\"-i\", \"--id\", type=int, required=True,\n",
    "\thelp=\"ID of ArUCo tag to generate\")\n",
    "ap.add_argument(\"-t\", \"--type\", type=str,\n",
    "\tdefault=\"DICT_ARUCO_ORIGINAL\",\n",
    "\thelp=\"type of ArUCo tag to generate\")\n",
    "args = vars(ap.parse_args())\n",
    "\n",
    "# define names of each possible ArUco tag OpenCV supports\n",
    "ARUCO_DICT = {\n",
    "\t\"DICT_4X4_50\": cv2.aruco.DICT_4X4_50,\n",
    "\t\"DICT_4X4_100\": cv2.aruco.DICT_4X4_100,\n",
    "\t\"DICT_4X4_250\": cv2.aruco.DICT_4X4_250,\n",
    "\t\"DICT_4X4_1000\": cv2.aruco.DICT_4X4_1000,\n",
    "\t\"DICT_5X5_50\": cv2.aruco.DICT_5X5_50,\n",
    "\t\"DICT_5X5_100\": cv2.aruco.DICT_5X5_100,\n",
    "\t\"DICT_5X5_250\": cv2.aruco.DICT_5X5_250,\n",
    "\t\"DICT_5X5_1000\": cv2.aruco.DICT_5X5_1000,\n",
    "\t\"DICT_6X6_50\": cv2.aruco.DICT_6X6_50,\n",
    "\t\"DICT_6X6_100\": cv2.aruco.DICT_6X6_100,\n",
    "\t\"DICT_6X6_250\": cv2.aruco.DICT_6X6_250,\n",
    "\t\"DICT_6X6_1000\": cv2.aruco.DICT_6X6_1000,\n",
    "\t\"DICT_7X7_50\": cv2.aruco.DICT_7X7_50,\n",
    "\t\"DICT_7X7_100\": cv2.aruco.DICT_7X7_100,\n",
    "\t\"DICT_7X7_250\": cv2.aruco.DICT_7X7_250,\n",
    "\t\"DICT_7X7_1000\": cv2.aruco.DICT_7X7_1000,\n",
    "\t\"DICT_ARUCO_ORIGINAL\": cv2.aruco.DICT_ARUCO_ORIGINAL,\n",
    "#\t\"DICT_APRILTAG_16h5\": cv2.aruco.DICT_APRILTAG_16h5,\n",
    "#\t\"DICT_APRILTAG_25h9\": cv2.aruco.DICT_APRILTAG_25h9,\n",
    "#\t\"DICT_APRILTAG_36h10\": cv2.aruco.DICT_APRILTAG_36h10,\n",
    "#\t\"DICT_APRILTAG_36h11\": cv2.aruco.DICT_APRILTAG_36h11\n",
    "}\n",
    "\n",
    "# verify that the supplied ArUCo tag exists and is supported by\n",
    "# OpenCV\n",
    "if ARUCO_DICT.get(args[\"type\"], None) is None:\n",
    "\tprint(\"[INFO] ArUCo tag of '{}' is not supported\".format(\n",
    "\t\targs[\"type\"]))\n",
    "\tsys.exit(0)\n",
    "\n",
    "# load the ArUCo dictionary\n",
    "arucoDict = cv2.aruco.Dictionary_get(ARUCO_DICT[args[\"type\"]])\n",
    "\n",
    "# allocate memory for the output ArUCo tag and then draw the ArUCo\n",
    "# tag on the output image\n",
    "print(\"[INFO] generating ArUCo tag type '{}' with ID '{}'\".format(\n",
    "\targs[\"type\"], args[\"id\"]))\n",
    "tag = np.zeros((300, 300, 1), dtype=\"uint8\")\n",
    "cv2.aruco.drawMarker(arucoDict, args[\"id\"], 300, tag, 1)\n",
    "\n",
    "# write the generated ArUCo tag to disk and then display it to our\n",
    "# screen\n",
    "cv2.imwrite(args[\"output\"], tag)\n",
    "cv2.imshow(\"ArUCo Tag\", tag)\n",
    "cv2.waitKey(0)"
   ]
  },
  {
   "cell_type": "code",
   "execution_count": null,
   "id": "f405ba96-2998-496a-bc0f-659de9c59028",
   "metadata": {},
   "outputs": [],
   "source": []
  }
 ],
 "metadata": {
  "kernelspec": {
   "display_name": "Python 3 (ipykernel)",
   "language": "python",
   "name": "python3"
  },
  "language_info": {
   "codemirror_mode": {
    "name": "ipython",
    "version": 3
   },
   "file_extension": ".py",
   "mimetype": "text/x-python",
   "name": "python",
   "nbconvert_exporter": "python",
   "pygments_lexer": "ipython3",
   "version": "3.8.10"
  },
  "vscode": {
   "interpreter": {
    "hash": "354bacf8392228cc4d3d5f2c2cf406879dc0f444c36eeff656bbd994034d539b"
   }
  }
 },
 "nbformat": 4,
 "nbformat_minor": 5
}
