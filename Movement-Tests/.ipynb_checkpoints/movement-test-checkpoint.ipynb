{
 "cells": [
  {
   "cell_type": "code",
   "execution_count": 1,
   "metadata": {
    "tags": []
   },
   "outputs": [
    {
     "name": "stdout",
     "output_type": "stream",
     "text": [
      "Ensure RTDE3 is started on the SmartHand\n"
     ]
    }
   ],
   "source": [
    "import numpy as np\n",
    "# import rmlib\n",
    "from rmlib.rmtools import utils, poses\n",
    "from rmlib import robot\n",
    "print(\"Ensure RTDE3 is started on the SmartHand\")"
   ]
  },
  {
   "cell_type": "code",
   "execution_count": 2,
   "metadata": {
    "tags": []
   },
   "outputs": [
    {
     "ename": "ValueError",
     "evalue": "You must specify a valid interface name.",
     "output_type": "error",
     "traceback": [
      "\u001b[0;31m---------------------------------------------------------------------------\u001b[0m",
      "\u001b[0;31mValueError\u001b[0m                                Traceback (most recent call last)",
      "Cell \u001b[0;32mIn[2], line 1\u001b[0m\n\u001b[0;32m----> 1\u001b[0m r \u001b[38;5;241m=\u001b[39m \u001b[43mrobot\u001b[49m\u001b[38;5;241;43m.\u001b[39;49m\u001b[43mRobot\u001b[49m\u001b[43m(\u001b[49m\u001b[43m)\u001b[49m\n",
      "File \u001b[0;32m~/Desktop/UR5-Interface/Movement-Tests/rmlib/robot.py:72\u001b[0m, in \u001b[0;36mRobot.__init__\u001b[0;34m(self, arm_config, hand_config)\u001b[0m\n\u001b[1;32m     70\u001b[0m \u001b[38;5;28;01mif\u001b[39;00m hand_config \u001b[38;5;129;01mis\u001b[39;00m \u001b[38;5;28;01mNone\u001b[39;00m:\n\u001b[1;32m     71\u001b[0m     hand_config \u001b[38;5;241m=\u001b[39m default_hand_config\n\u001b[0;32m---> 72\u001b[0m \u001b[38;5;28mself\u001b[39m\u001b[38;5;241m.\u001b[39marm  \u001b[38;5;241m=\u001b[39m \u001b[43mchoose_arm\u001b[49m\u001b[43m(\u001b[49m\u001b[43marm_config\u001b[49m\u001b[43m)\u001b[49m\n\u001b[1;32m     73\u001b[0m \u001b[38;5;28mself\u001b[39m\u001b[38;5;241m.\u001b[39mhand \u001b[38;5;241m=\u001b[39m SmartHand(hand_config)\n\u001b[1;32m     74\u001b[0m \u001b[38;5;66;03m# self.camera = RealSense()\u001b[39;00m\n",
      "File \u001b[0;32m~/Desktop/UR5-Interface/Movement-Tests/rmlib/robot.py:51\u001b[0m, in \u001b[0;36mchoose_arm\u001b[0;34m(arm_config)\u001b[0m\n\u001b[1;32m     49\u001b[0m     \u001b[38;5;28;01mraise\u001b[39;00m \u001b[38;5;167;01mException\u001b[39;00m(\u001b[38;5;124m\"\u001b[39m\u001b[38;5;124marm config must include key \u001b[39m\u001b[38;5;124m'\u001b[39m\u001b[38;5;124mtype\u001b[39m\u001b[38;5;124m'\u001b[39m\u001b[38;5;124m from ArmType enum\u001b[39m\u001b[38;5;124m\"\u001b[39m)\n\u001b[1;32m     50\u001b[0m \u001b[38;5;28;01mif\u001b[39;00m arm_type \u001b[38;5;129;01mis\u001b[39;00m ArmType\u001b[38;5;241m.\u001b[39mUR5:\n\u001b[0;32m---> 51\u001b[0m     \u001b[38;5;28;01mreturn\u001b[39;00m \u001b[43mUR5\u001b[49m\u001b[43m(\u001b[49m\u001b[43marm_config\u001b[49m\u001b[43m)\u001b[49m\n\u001b[1;32m     52\u001b[0m \u001b[38;5;28;01mif\u001b[39;00m arm_type \u001b[38;5;129;01mis\u001b[39;00m ArmType\u001b[38;5;241m.\u001b[39mUR5e:\n\u001b[1;32m     53\u001b[0m     \u001b[38;5;28;01mreturn\u001b[39;00m UR5e(arm_config)\n",
      "File \u001b[0;32m~/Desktop/UR5-Interface/Movement-Tests/rmlib/arms/ur5.py:33\u001b[0m, in \u001b[0;36mUR5.__init__\u001b[0;34m(self, ur5_config)\u001b[0m\n\u001b[1;32m     30\u001b[0m \u001b[38;5;28mself\u001b[39m\u001b[38;5;241m.\u001b[39moptoforce_init_dict \u001b[38;5;241m=\u001b[39m ur5_config[\u001b[38;5;124m\"\u001b[39m\u001b[38;5;124moptoforce_init_dict\u001b[39m\u001b[38;5;124m\"\u001b[39m]\n\u001b[1;32m     32\u001b[0m \u001b[38;5;66;03m# Start rtde\u001b[39;00m\n\u001b[0;32m---> 33\u001b[0m \u001b[38;5;28;43mself\u001b[39;49m\u001b[38;5;241;43m.\u001b[39;49m\u001b[43mstart_rtde\u001b[49m\u001b[43m(\u001b[49m\u001b[43m)\u001b[49m\n\u001b[1;32m     34\u001b[0m \u001b[38;5;66;03m# XMLRPC Interface to the OptoForce HEX-H B196\u001b[39;00m\n\u001b[1;32m     35\u001b[0m \u001b[38;5;28mself\u001b[39m\u001b[38;5;241m.\u001b[39mft \u001b[38;5;241m=\u001b[39m OptoForce(\u001b[38;5;28mself\u001b[39m\u001b[38;5;241m.\u001b[39moptoforce_init_dict)\n",
      "File \u001b[0;32m~/Desktop/UR5-Interface/Movement-Tests/rmlib/arms/ur5.py:84\u001b[0m, in \u001b[0;36mUR5.start_rtde\u001b[0;34m(self)\u001b[0m\n\u001b[1;32m     82\u001b[0m \u001b[38;5;28;01mdef\u001b[39;00m \u001b[38;5;21mstart_rtde\u001b[39m(\u001b[38;5;28mself\u001b[39m):\n\u001b[1;32m     83\u001b[0m     \u001b[38;5;66;03m# Connect to rtde server as xmlrpc client\u001b[39;00m\n\u001b[0;32m---> 84\u001b[0m     ip         \u001b[38;5;241m=\u001b[39m \u001b[43mni\u001b[49m\u001b[38;5;241;43m.\u001b[39;49m\u001b[43mifaddresses\u001b[49m\u001b[43m(\u001b[49m\u001b[38;5;124;43m\"\u001b[39;49m\u001b[38;5;124;43meth0\u001b[39;49m\u001b[38;5;124;43m\"\u001b[39;49m\u001b[43m)\u001b[49m[ni\u001b[38;5;241m.\u001b[39mAF_INET][\u001b[38;5;241m0\u001b[39m][\u001b[38;5;124m\"\u001b[39m\u001b[38;5;124maddr\u001b[39m\u001b[38;5;124m\"\u001b[39m]\n\u001b[1;32m     85\u001b[0m     param      \u001b[38;5;241m=\u001b[39m \u001b[38;5;124mf\u001b[39m\u001b[38;5;124m\"\u001b[39m\u001b[38;5;124mhttp://\u001b[39m\u001b[38;5;132;01m{\u001b[39;00mip\u001b[38;5;132;01m}\u001b[39;00m\u001b[38;5;124m:\u001b[39m\u001b[38;5;132;01m{\u001b[39;00m\u001b[38;5;28mself\u001b[39m\u001b[38;5;241m.\u001b[39mxmlrpc_port\u001b[38;5;132;01m}\u001b[39;00m\u001b[38;5;124m/RPC2\u001b[39m\u001b[38;5;124m\"\u001b[39m\n\u001b[1;32m     86\u001b[0m     \u001b[38;5;28mself\u001b[39m\u001b[38;5;241m.\u001b[39mproxy \u001b[38;5;241m=\u001b[39m xmlrpc\u001b[38;5;241m.\u001b[39mclient\u001b[38;5;241m.\u001b[39mServerProxy(param)\n",
      "\u001b[0;31mValueError\u001b[0m: You must specify a valid interface name."
     ]
    }
   ],
   "source": [
    "r = robot.Robot()"
   ]
  },
  {
   "cell_type": "code",
   "execution_count": 3,
   "metadata": {},
   "outputs": [
    {
     "data": {
      "text/plain": [
       "False"
      ]
     },
     "execution_count": 3,
     "metadata": {},
     "output_type": "execute_result"
    }
   ],
   "source": [
    "gripper = r.hand\n",
    "gripper.release()"
   ]
  },
  {
   "cell_type": "code",
   "execution_count": null,
   "metadata": {},
   "outputs": [],
   "source": []
  },
  {
   "cell_type": "code",
   "execution_count": null,
   "metadata": {},
   "outputs": [],
   "source": []
  },
  {
   "cell_type": "code",
   "execution_count": 122,
   "metadata": {},
   "outputs": [
    {
     "data": {
      "text/plain": [
       "False"
      ]
     },
     "execution_count": 122,
     "metadata": {},
     "output_type": "execute_result"
    }
   ],
   "source": [
    "gripper.grip()"
   ]
  },
  {
   "cell_type": "code",
   "execution_count": null,
   "metadata": {},
   "outputs": [],
   "source": [
    "class basicInterface():\n",
    "    def __init__(self):\n",
    "        self.r = robot.Robot()\n",
    "        \n",
    "    def getGoalPose(dX,dY,dZ):\n",
    "        "
   ]
  },
  {
   "cell_type": "code",
   "execution_count": 8,
   "metadata": {},
   "outputs": [],
   "source": [
    "arm = r.arm\n",
    "\n"
   ]
  },
  {
   "cell_type": "code",
   "execution_count": 9,
   "metadata": {},
   "outputs": [],
   "source": [
    "def moveHome(arm):\n",
    "    # Moves the arm linearly in cartesian space to home position\n",
    "    homePose = np.array([[ 0.99955322, -0.02418213, -0.01756664,  0.01498893],\n",
    "       [-0.01748495,0.00358545,-0.9998407,-0.57686779],\n",
    "       [0.02424126,0.99970114,0.00316103,0.05545535],\n",
    "       [0,0,0,1]])\n",
    "    arm.move(target=homePose,move_type=\"l\")\n",
    "    \n",
    "\n",
    "def routine(arm): \n",
    "    moveHome(arm)\n",
    "    # translate forward to block\n",
    "    print(f\"initPose: \\n{initPose}\")\n",
    "    dX,dY,dZ = 0.0,0.0,0.05\n",
    "    goalPose = poses.translate_pose(initPose,translation_vec=[dX,dY,dZ],dir_pose=\"origin\")\n",
    "    print(f\"goalPose: \\n{goalPose}\")\n",
    "    arm.move(target=homePose,move_type=\"l\")\n",
    "    print(f\"finalPose: \\n{arm.get_tcp_pose()}\")\n",
    "# print(arm.get_tcp_pose())\n",
    "# routine(arm=r.arm)\n",
    "\n",
    "moveHome(arm)"
   ]
  },
  {
   "cell_type": "code",
   "execution_count": 152,
   "metadata": {},
   "outputs": [
    {
     "ename": "ModuleNotFoundError",
     "evalue": "No module named 'pyrealsense2'",
     "output_type": "error",
     "traceback": [
      "\u001b[0;31m---------------------------------------------------------------------------\u001b[0m",
      "\u001b[0;31mModuleNotFoundError\u001b[0m                       Traceback (most recent call last)",
      "\u001b[0;32m/tmp/ipykernel_25705/1517274394.py\u001b[0m in \u001b[0;36m<module>\u001b[0;34m\u001b[0m\n\u001b[0;32m----> 1\u001b[0;31m \u001b[0;32mfrom\u001b[0m \u001b[0mrmlib\u001b[0m\u001b[0;34m.\u001b[0m\u001b[0mcameras\u001b[0m \u001b[0;32mimport\u001b[0m \u001b[0mrealsense\u001b[0m\u001b[0;34m\u001b[0m\u001b[0;34m\u001b[0m\u001b[0m\n\u001b[0m",
      "\u001b[0;32m~/rmstudio_cu/rmlib/rmlib/cameras/realsense.py\u001b[0m in \u001b[0;36m<module>\u001b[0;34m\u001b[0m\n\u001b[0;32m----> 1\u001b[0;31m \u001b[0;32mimport\u001b[0m \u001b[0mpyrealsense2\u001b[0m \u001b[0;32mas\u001b[0m \u001b[0mrs\u001b[0m\u001b[0;34m\u001b[0m\u001b[0;34m\u001b[0m\u001b[0m\n\u001b[0m\u001b[1;32m      2\u001b[0m \u001b[0;32mimport\u001b[0m \u001b[0mnumpy\u001b[0m \u001b[0;32mas\u001b[0m \u001b[0mnp\u001b[0m\u001b[0;34m\u001b[0m\u001b[0;34m\u001b[0m\u001b[0m\n\u001b[1;32m      3\u001b[0m \u001b[0;32mimport\u001b[0m \u001b[0mtime\u001b[0m\u001b[0;34m\u001b[0m\u001b[0;34m\u001b[0m\u001b[0m\n\u001b[1;32m      4\u001b[0m \u001b[0;32mfrom\u001b[0m \u001b[0mrmlib\u001b[0m\u001b[0;34m.\u001b[0m\u001b[0mrmtools\u001b[0m \u001b[0;32mimport\u001b[0m \u001b[0mposes\u001b[0m \u001b[0;32mas\u001b[0m \u001b[0mpmath\u001b[0m\u001b[0;34m\u001b[0m\u001b[0;34m\u001b[0m\u001b[0m\n\u001b[1;32m      5\u001b[0m \u001b[0;34m\u001b[0m\u001b[0m\n",
      "\u001b[0;31mModuleNotFoundError\u001b[0m: No module named 'pyrealsense2'"
     ]
    }
   ],
   "source": [
    "from rmlib.cameras import realsense"
   ]
  },
  {
   "cell_type": "code",
   "execution_count": null,
   "metadata": {},
   "outputs": [],
   "source": []
  }
 ],
 "metadata": {
  "kernelspec": {
   "display_name": "Python 3 (ipykernel)",
   "language": "python",
   "name": "python3"
  },
  "language_info": {
   "codemirror_mode": {
    "name": "ipython",
    "version": 3
   },
   "file_extension": ".py",
   "mimetype": "text/x-python",
   "name": "python",
   "nbconvert_exporter": "python",
   "pygments_lexer": "ipython3",
   "version": "3.10.10"
  }
 },
 "nbformat": 4,
 "nbformat_minor": 4
}
