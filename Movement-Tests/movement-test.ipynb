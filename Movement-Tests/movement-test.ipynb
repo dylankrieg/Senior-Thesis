{
 "cells": [
  {
   "cell_type": "code",
   "execution_count": 5,
   "metadata": {},
   "outputs": [],
   "source": []
  },
  {
   "cell_type": "code",
   "execution_count": 5,
   "metadata": {},
   "outputs": [
    {
     "name": "stdout",
     "output_type": "stream",
     "text": [
      "Ensure RTDE3 is started on the SmartHand\n"
     ]
    }
   ],
   "source": [
    "import numpy as np\n",
    "import rmlib\n",
    "from rmlib.rmtools import utils, poses\n",
    "from rmlib import robot\n",
    "print(\"Ensure RTDE3 is started on the SmartHand\")"
   ]
  },
  {
   "cell_type": "code",
   "execution_count": 6,
   "metadata": {},
   "outputs": [
    {
     "name": "stdout",
     "output_type": "stream",
     "text": [
      "Connecting to the force sensor at ('192.168.0.3', 49152) ... SUCCESS!\n",
      "Preparing OptoForce for data transmission ... COMPLETED!\n",
      "SETTING FORCE BIAS TO CURRENT\n",
      "Set up server at: {'ip': '127.0.0.1', 'port': 20000}\n",
      "Set up server at: {'ip': '', 'port': 10000}\n",
      "\n",
      " Config Tuple:\n",
      " Config Tuple:  {'ip': '127.0.0.1', 'port': 20000}{'ip': '', 'port': 10000}  \n",
      "\n",
      "\n",
      "\n",
      "XML-RPC servers RUNNING!\n",
      "Waiting on first robot state ....\n",
      "Encountered the following error:\n",
      " [Errno 98] Address already in use\n",
      "Terminating workers ... TERMINATED\n",
      "\t\tReceived!: {'recipe_id': 1, 'timestamp': 387.57599999999996, 'actual_TCP_pose': [-0.19861248345462568, -0.5976242835026448, 0.08283329180559094, -0.012098219893848024, 2.3177893732385506, -2.105129085977403], 'actual_TCP_speed': [0.0, 0.0, 0.0, 0.0, 0.0, 0.0], 'actual_TCP_force': [-5.133594639597263, 0.43795647152755557, -0.8600463068984127, -4.353699991480015, -0.7081611689616669, 0.9112322997154276], 'actual_q': [0.510977029800415, -1.4271095434771937, 2.2988362312316895, -0.6812189261065882, 0.5119174122810364, 2.978682518005371], 'target_q': [0.511008358939204, -1.427103462013541, 2.298868524318735, -0.6811870787061602, 0.5118900934657429, 2.9787104758486187], 'actual_digital_input_bits': 0, 'safety_status_bits': 1, 'robot_status_bits': 1}\n",
      "Robot Ready!\n"
     ]
    }
   ],
   "source": [
    "r = robot.Robot()"
   ]
  },
  {
   "cell_type": "code",
   "execution_count": 3,
   "metadata": {},
   "outputs": [
    {
     "data": {
      "text/plain": [
       "False"
      ]
     },
     "execution_count": 3,
     "metadata": {},
     "output_type": "execute_result"
    }
   ],
   "source": [
    "gripper = r.hand\n",
    "gripper.release()"
   ]
  },
  {
   "cell_type": "code",
   "execution_count": 122,
   "metadata": {},
   "outputs": [
    {
     "data": {
      "text/plain": [
       "False"
      ]
     },
     "execution_count": 122,
     "metadata": {},
     "output_type": "execute_result"
    }
   ],
   "source": [
    "gripper.grip()"
   ]
  },
  {
   "cell_type": "code",
   "execution_count": null,
   "metadata": {},
   "outputs": [],
   "source": [
    "class basicInterface():\n",
    "    def __init__(self):\n",
    "        self.r = robot.Robot()\n",
    "        \n",
    "    def getGoalPose(dX,dY,dZ):\n",
    "        "
   ]
  },
  {
   "cell_type": "code",
   "execution_count": 8,
   "metadata": {},
   "outputs": [],
   "source": [
    "arm = r.arm\n",
    "\n"
   ]
  },
  {
   "cell_type": "code",
   "execution_count": 9,
   "metadata": {},
   "outputs": [],
   "source": [
    "def moveHome(arm):\n",
    "    # Moves the arm linearly in cartesian space to home position\n",
    "    homePose = np.array([[ 0.99955322, -0.02418213, -0.01756664,  0.01498893],\n",
    "       [-0.01748495,0.00358545,-0.9998407,-0.57686779],\n",
    "       [0.02424126,0.99970114,0.00316103,0.05545535],\n",
    "       [0,0,0,1]])\n",
    "    arm.move(target=homePose,move_type=\"l\")\n",
    "    \n",
    "\n",
    "def routine(arm): \n",
    "    moveHome(arm)\n",
    "    # translate forward to block\n",
    "    print(f\"initPose: \\n{initPose}\")\n",
    "    dX,dY,dZ = 0.0,0.0,0.05\n",
    "    goalPose = poses.translate_pose(initPose,translation_vec=[dX,dY,dZ],dir_pose=\"origin\")\n",
    "    print(f\"goalPose: \\n{goalPose}\")\n",
    "    arm.move(target=homePose,move_type=\"l\")\n",
    "    print(f\"finalPose: \\n{arm.get_tcp_pose()}\")\n",
    "# print(arm.get_tcp_pose())\n",
    "# routine(arm=r.arm)\n",
    "\n",
    "moveHome(arm)"
   ]
  },
  {
   "cell_type": "code",
   "execution_count": 152,
   "metadata": {},
   "outputs": [
    {
     "ename": "ModuleNotFoundError",
     "evalue": "No module named 'pyrealsense2'",
     "output_type": "error",
     "traceback": [
      "\u001b[0;31m---------------------------------------------------------------------------\u001b[0m",
      "\u001b[0;31mModuleNotFoundError\u001b[0m                       Traceback (most recent call last)",
      "\u001b[0;32m/tmp/ipykernel_25705/1517274394.py\u001b[0m in \u001b[0;36m<module>\u001b[0;34m\u001b[0m\n\u001b[0;32m----> 1\u001b[0;31m \u001b[0;32mfrom\u001b[0m \u001b[0mrmlib\u001b[0m\u001b[0;34m.\u001b[0m\u001b[0mcameras\u001b[0m \u001b[0;32mimport\u001b[0m \u001b[0mrealsense\u001b[0m\u001b[0;34m\u001b[0m\u001b[0;34m\u001b[0m\u001b[0m\n\u001b[0m",
      "\u001b[0;32m~/rmstudio_cu/rmlib/rmlib/cameras/realsense.py\u001b[0m in \u001b[0;36m<module>\u001b[0;34m\u001b[0m\n\u001b[0;32m----> 1\u001b[0;31m \u001b[0;32mimport\u001b[0m \u001b[0mpyrealsense2\u001b[0m \u001b[0;32mas\u001b[0m \u001b[0mrs\u001b[0m\u001b[0;34m\u001b[0m\u001b[0;34m\u001b[0m\u001b[0m\n\u001b[0m\u001b[1;32m      2\u001b[0m \u001b[0;32mimport\u001b[0m \u001b[0mnumpy\u001b[0m \u001b[0;32mas\u001b[0m \u001b[0mnp\u001b[0m\u001b[0;34m\u001b[0m\u001b[0;34m\u001b[0m\u001b[0m\n\u001b[1;32m      3\u001b[0m \u001b[0;32mimport\u001b[0m \u001b[0mtime\u001b[0m\u001b[0;34m\u001b[0m\u001b[0;34m\u001b[0m\u001b[0m\n\u001b[1;32m      4\u001b[0m \u001b[0;32mfrom\u001b[0m \u001b[0mrmlib\u001b[0m\u001b[0;34m.\u001b[0m\u001b[0mrmtools\u001b[0m \u001b[0;32mimport\u001b[0m \u001b[0mposes\u001b[0m \u001b[0;32mas\u001b[0m \u001b[0mpmath\u001b[0m\u001b[0;34m\u001b[0m\u001b[0;34m\u001b[0m\u001b[0m\n\u001b[1;32m      5\u001b[0m \u001b[0;34m\u001b[0m\u001b[0m\n",
      "\u001b[0;31mModuleNotFoundError\u001b[0m: No module named 'pyrealsense2'"
     ]
    }
   ],
   "source": [
    "from rmlib.cameras import realsense"
   ]
  },
  {
   "cell_type": "code",
   "execution_count": null,
   "metadata": {},
   "outputs": [],
   "source": []
  }
 ],
 "metadata": {
  "kernelspec": {
   "display_name": "Python 2",
   "language": "python",
   "name": "python2"
  },
  "language_info": {
   "codemirror_mode": {
    "name": "ipython",
    "version": 3
   },
   "file_extension": ".py",
   "mimetype": "text/x-python",
   "name": "python",
   "nbconvert_exporter": "python",
   "pygments_lexer": "ipython3",
   "version": "3.8.12"
  }
 },
 "nbformat": 4,
 "nbformat_minor": 4
}
